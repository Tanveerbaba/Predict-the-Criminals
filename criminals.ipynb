{
 "cells": [
  {
   "cell_type": "code",
   "execution_count": 15,
   "metadata": {
    "collapsed": true
   },
   "outputs": [],
   "source": [
    "#Imported some necessary Libraries\n",
    "import numpy as np\n",
    "import pandas as pd\n",
    "import matplotlib.pyplot as plt\n",
    "import seaborn as sns\n",
    "%matplotlib inline"
   ]
  },
  {
   "cell_type": "code",
   "execution_count": 16,
   "metadata": {
    "collapsed": true
   },
   "outputs": [],
   "source": [
    "#Reading Train and Test Data set\n",
    "criminals_train = pd.read_csv('criminal_train.csv')\n",
    "criminals_test = pd.read_csv('criminal_test.csv')\n"
   ]
  },
  {
   "cell_type": "markdown",
   "metadata": {},
   "source": [
    "# Let's Do some Exploratory Data Analysis on Training Dataset"
   ]
  },
  {
   "cell_type": "code",
   "execution_count": 17,
   "metadata": {
    "scrolled": true
   },
   "outputs": [
    {
     "name": "stdout",
     "output_type": "stream",
     "text": [
      "<class 'pandas.core.frame.DataFrame'>\n",
      "RangeIndex: 45718 entries, 0 to 45717\n",
      "Data columns (total 72 columns):\n",
      "PERID        45718 non-null int64\n",
      "IFATHER      45718 non-null int64\n",
      "NRCH17_2     45718 non-null int64\n",
      "IRHHSIZ2     45718 non-null int64\n",
      "IIHHSIZ2     45718 non-null int64\n",
      "IRKI17_2     45718 non-null int64\n",
      "IIKI17_2     45718 non-null int64\n",
      "IRHH65_2     45718 non-null int64\n",
      "IIHH65_2     45718 non-null int64\n",
      "PRXRETRY     45718 non-null int64\n",
      "PRXYDATA     45718 non-null int64\n",
      "MEDICARE     45718 non-null int64\n",
      "CAIDCHIP     45718 non-null int64\n",
      "CHAMPUS      45718 non-null int64\n",
      "PRVHLTIN     45718 non-null int64\n",
      "GRPHLTIN     45718 non-null int64\n",
      "HLTINNOS     45718 non-null int64\n",
      "HLCNOTYR     45718 non-null int64\n",
      "HLCNOTMO     45718 non-null int64\n",
      "HLCLAST      45718 non-null int64\n",
      "HLLOSRSN     45718 non-null int64\n",
      "HLNVCOST     45718 non-null int64\n",
      "HLNVOFFR     45718 non-null int64\n",
      "HLNVREF      45718 non-null int64\n",
      "HLNVNEED     45718 non-null int64\n",
      "HLNVSOR      45718 non-null int64\n",
      "IRMCDCHP     45718 non-null int64\n",
      "IIMCDCHP     45718 non-null int64\n",
      "IRMEDICR     45718 non-null int64\n",
      "IIMEDICR     45718 non-null int64\n",
      "IRCHMPUS     45718 non-null int64\n",
      "IICHMPUS     45718 non-null int64\n",
      "IRPRVHLT     45718 non-null int64\n",
      "IIPRVHLT     45718 non-null int64\n",
      "IROTHHLT     45718 non-null int64\n",
      "IIOTHHLT     45718 non-null int64\n",
      "HLCALLFG     45718 non-null int64\n",
      "HLCALL99     45718 non-null int64\n",
      "ANYHLTI2     45718 non-null int64\n",
      "IRINSUR4     45718 non-null int64\n",
      "IIINSUR4     45718 non-null int64\n",
      "OTHINS       45718 non-null int64\n",
      "CELLNOTCL    45718 non-null int64\n",
      "CELLWRKNG    45718 non-null int64\n",
      "IRFAMSOC     45718 non-null int64\n",
      "IIFAMSOC     45718 non-null int64\n",
      "IRFAMSSI     45718 non-null int64\n",
      "IIFAMSSI     45718 non-null int64\n",
      "IRFSTAMP     45718 non-null int64\n",
      "IIFSTAMP     45718 non-null int64\n",
      "IRFAMPMT     45718 non-null int64\n",
      "IIFAMPMT     45718 non-null int64\n",
      "IRFAMSVC     45718 non-null int64\n",
      "IIFAMSVC     45718 non-null int64\n",
      "IRWELMOS     45718 non-null int64\n",
      "IIWELMOS     45718 non-null int64\n",
      "IRPINC3      45718 non-null int64\n",
      "IRFAMIN3     45718 non-null int64\n",
      "IIPINC3      45718 non-null int64\n",
      "IIFAMIN3     45718 non-null int64\n",
      "GOVTPROG     45718 non-null int64\n",
      "POVERTY3     45718 non-null int64\n",
      "TOOLONG      45718 non-null int64\n",
      "TROUBUND     45718 non-null int64\n",
      "PDEN10       45718 non-null int64\n",
      "COUTYP2      45718 non-null int64\n",
      "MAIIN102     45718 non-null int64\n",
      "AIIND102     45718 non-null int64\n",
      "ANALWT_C     45718 non-null float64\n",
      "VESTR        45718 non-null int64\n",
      "VEREP        45718 non-null int64\n",
      "Criminal     45718 non-null int64\n",
      "dtypes: float64(1), int64(71)\n",
      "memory usage: 25.1 MB\n"
     ]
    }
   ],
   "source": [
    "#Summary of a Training Data Set.\n",
    "criminals_train.info()"
   ]
  },
  {
   "cell_type": "code",
   "execution_count": 18,
   "metadata": {},
   "outputs": [
    {
     "data": {
      "text/html": [
       "<div>\n",
       "<style>\n",
       "    .dataframe thead tr:only-child th {\n",
       "        text-align: right;\n",
       "    }\n",
       "\n",
       "    .dataframe thead th {\n",
       "        text-align: left;\n",
       "    }\n",
       "\n",
       "    .dataframe tbody tr th {\n",
       "        vertical-align: top;\n",
       "    }\n",
       "</style>\n",
       "<table border=\"1\" class=\"dataframe\">\n",
       "  <thead>\n",
       "    <tr style=\"text-align: right;\">\n",
       "      <th></th>\n",
       "      <th>PERID</th>\n",
       "      <th>IFATHER</th>\n",
       "      <th>NRCH17_2</th>\n",
       "      <th>IRHHSIZ2</th>\n",
       "      <th>IIHHSIZ2</th>\n",
       "      <th>IRKI17_2</th>\n",
       "      <th>IIKI17_2</th>\n",
       "      <th>IRHH65_2</th>\n",
       "      <th>IIHH65_2</th>\n",
       "      <th>PRXRETRY</th>\n",
       "      <th>...</th>\n",
       "      <th>TOOLONG</th>\n",
       "      <th>TROUBUND</th>\n",
       "      <th>PDEN10</th>\n",
       "      <th>COUTYP2</th>\n",
       "      <th>MAIIN102</th>\n",
       "      <th>AIIND102</th>\n",
       "      <th>ANALWT_C</th>\n",
       "      <th>VESTR</th>\n",
       "      <th>VEREP</th>\n",
       "      <th>Criminal</th>\n",
       "    </tr>\n",
       "  </thead>\n",
       "  <tbody>\n",
       "    <tr>\n",
       "      <th>count</th>\n",
       "      <td>4.571800e+04</td>\n",
       "      <td>45718.000000</td>\n",
       "      <td>45718.000000</td>\n",
       "      <td>45718.000000</td>\n",
       "      <td>45718.000000</td>\n",
       "      <td>45718.000000</td>\n",
       "      <td>45718.000000</td>\n",
       "      <td>45718.000000</td>\n",
       "      <td>45718.000000</td>\n",
       "      <td>45718.000000</td>\n",
       "      <td>...</td>\n",
       "      <td>45718.000000</td>\n",
       "      <td>45718.000000</td>\n",
       "      <td>45718.000000</td>\n",
       "      <td>45718.000000</td>\n",
       "      <td>45718.000000</td>\n",
       "      <td>45718.000000</td>\n",
       "      <td>45718.000000</td>\n",
       "      <td>45718.000000</td>\n",
       "      <td>45718.000000</td>\n",
       "      <td>45718.000000</td>\n",
       "    </tr>\n",
       "    <tr>\n",
       "      <th>mean</th>\n",
       "      <td>5.445446e+07</td>\n",
       "      <td>3.355549</td>\n",
       "      <td>0.476486</td>\n",
       "      <td>3.426375</td>\n",
       "      <td>1.001706</td>\n",
       "      <td>2.084124</td>\n",
       "      <td>1.007437</td>\n",
       "      <td>1.162606</td>\n",
       "      <td>1.011024</td>\n",
       "      <td>97.394943</td>\n",
       "      <td>...</td>\n",
       "      <td>2.219410</td>\n",
       "      <td>2.234940</td>\n",
       "      <td>1.646135</td>\n",
       "      <td>1.764666</td>\n",
       "      <td>1.978936</td>\n",
       "      <td>1.978739</td>\n",
       "      <td>4692.661179</td>\n",
       "      <td>40023.739118</td>\n",
       "      <td>1.493854</td>\n",
       "      <td>0.069447</td>\n",
       "    </tr>\n",
       "    <tr>\n",
       "      <th>std</th>\n",
       "      <td>2.553911e+07</td>\n",
       "      <td>1.176651</td>\n",
       "      <td>0.888472</td>\n",
       "      <td>1.427420</td>\n",
       "      <td>0.061314</td>\n",
       "      <td>1.102988</td>\n",
       "      <td>0.123162</td>\n",
       "      <td>0.469029</td>\n",
       "      <td>0.146444</td>\n",
       "      <td>12.355156</td>\n",
       "      <td>...</td>\n",
       "      <td>5.295784</td>\n",
       "      <td>5.293651</td>\n",
       "      <td>0.618403</td>\n",
       "      <td>0.771411</td>\n",
       "      <td>0.144510</td>\n",
       "      <td>0.145161</td>\n",
       "      <td>5724.659486</td>\n",
       "      <td>265.140430</td>\n",
       "      <td>0.500230</td>\n",
       "      <td>0.254216</td>\n",
       "    </tr>\n",
       "    <tr>\n",
       "      <th>min</th>\n",
       "      <td>1.000222e+07</td>\n",
       "      <td>-1.000000</td>\n",
       "      <td>-1.000000</td>\n",
       "      <td>-1.000000</td>\n",
       "      <td>-1.000000</td>\n",
       "      <td>-1.000000</td>\n",
       "      <td>-1.000000</td>\n",
       "      <td>-1.000000</td>\n",
       "      <td>-1.000000</td>\n",
       "      <td>-1.000000</td>\n",
       "      <td>...</td>\n",
       "      <td>-1.000000</td>\n",
       "      <td>-1.000000</td>\n",
       "      <td>-1.000000</td>\n",
       "      <td>-1.000000</td>\n",
       "      <td>-1.000000</td>\n",
       "      <td>-1.000000</td>\n",
       "      <td>-1.000000</td>\n",
       "      <td>-1.000000</td>\n",
       "      <td>-1.000000</td>\n",
       "      <td>0.000000</td>\n",
       "    </tr>\n",
       "    <tr>\n",
       "      <th>25%</th>\n",
       "      <td>3.233189e+07</td>\n",
       "      <td>4.000000</td>\n",
       "      <td>0.000000</td>\n",
       "      <td>2.000000</td>\n",
       "      <td>1.000000</td>\n",
       "      <td>1.000000</td>\n",
       "      <td>1.000000</td>\n",
       "      <td>1.000000</td>\n",
       "      <td>1.000000</td>\n",
       "      <td>99.000000</td>\n",
       "      <td>...</td>\n",
       "      <td>2.000000</td>\n",
       "      <td>2.000000</td>\n",
       "      <td>1.000000</td>\n",
       "      <td>1.000000</td>\n",
       "      <td>2.000000</td>\n",
       "      <td>2.000000</td>\n",
       "      <td>1252.396472</td>\n",
       "      <td>40013.000000</td>\n",
       "      <td>1.000000</td>\n",
       "      <td>0.000000</td>\n",
       "    </tr>\n",
       "    <tr>\n",
       "      <th>50%</th>\n",
       "      <td>5.411043e+07</td>\n",
       "      <td>4.000000</td>\n",
       "      <td>0.000000</td>\n",
       "      <td>3.000000</td>\n",
       "      <td>1.000000</td>\n",
       "      <td>2.000000</td>\n",
       "      <td>1.000000</td>\n",
       "      <td>1.000000</td>\n",
       "      <td>1.000000</td>\n",
       "      <td>99.000000</td>\n",
       "      <td>...</td>\n",
       "      <td>2.000000</td>\n",
       "      <td>2.000000</td>\n",
       "      <td>2.000000</td>\n",
       "      <td>2.000000</td>\n",
       "      <td>2.000000</td>\n",
       "      <td>2.000000</td>\n",
       "      <td>2719.335160</td>\n",
       "      <td>40025.000000</td>\n",
       "      <td>1.000000</td>\n",
       "      <td>0.000000</td>\n",
       "    </tr>\n",
       "    <tr>\n",
       "      <th>75%</th>\n",
       "      <td>7.612731e+07</td>\n",
       "      <td>4.000000</td>\n",
       "      <td>1.000000</td>\n",
       "      <td>4.000000</td>\n",
       "      <td>1.000000</td>\n",
       "      <td>3.000000</td>\n",
       "      <td>1.000000</td>\n",
       "      <td>1.000000</td>\n",
       "      <td>1.000000</td>\n",
       "      <td>99.000000</td>\n",
       "      <td>...</td>\n",
       "      <td>2.000000</td>\n",
       "      <td>2.000000</td>\n",
       "      <td>2.000000</td>\n",
       "      <td>2.000000</td>\n",
       "      <td>2.000000</td>\n",
       "      <td>2.000000</td>\n",
       "      <td>5765.810794</td>\n",
       "      <td>40039.000000</td>\n",
       "      <td>2.000000</td>\n",
       "      <td>0.000000</td>\n",
       "    </tr>\n",
       "    <tr>\n",
       "      <th>max</th>\n",
       "      <td>9.999956e+07</td>\n",
       "      <td>4.000000</td>\n",
       "      <td>3.000000</td>\n",
       "      <td>6.000000</td>\n",
       "      <td>3.000000</td>\n",
       "      <td>4.000000</td>\n",
       "      <td>3.000000</td>\n",
       "      <td>3.000000</td>\n",
       "      <td>3.000000</td>\n",
       "      <td>99.000000</td>\n",
       "      <td>...</td>\n",
       "      <td>98.000000</td>\n",
       "      <td>98.000000</td>\n",
       "      <td>3.000000</td>\n",
       "      <td>3.000000</td>\n",
       "      <td>2.000000</td>\n",
       "      <td>2.000000</td>\n",
       "      <td>109100.623000</td>\n",
       "      <td>40050.000000</td>\n",
       "      <td>2.000000</td>\n",
       "      <td>1.000000</td>\n",
       "    </tr>\n",
       "  </tbody>\n",
       "</table>\n",
       "<p>8 rows × 72 columns</p>\n",
       "</div>"
      ],
      "text/plain": [
       "              PERID       IFATHER      NRCH17_2      IRHHSIZ2      IIHHSIZ2  \\\n",
       "count  4.571800e+04  45718.000000  45718.000000  45718.000000  45718.000000   \n",
       "mean   5.445446e+07      3.355549      0.476486      3.426375      1.001706   \n",
       "std    2.553911e+07      1.176651      0.888472      1.427420      0.061314   \n",
       "min    1.000222e+07     -1.000000     -1.000000     -1.000000     -1.000000   \n",
       "25%    3.233189e+07      4.000000      0.000000      2.000000      1.000000   \n",
       "50%    5.411043e+07      4.000000      0.000000      3.000000      1.000000   \n",
       "75%    7.612731e+07      4.000000      1.000000      4.000000      1.000000   \n",
       "max    9.999956e+07      4.000000      3.000000      6.000000      3.000000   \n",
       "\n",
       "           IRKI17_2      IIKI17_2      IRHH65_2      IIHH65_2      PRXRETRY  \\\n",
       "count  45718.000000  45718.000000  45718.000000  45718.000000  45718.000000   \n",
       "mean       2.084124      1.007437      1.162606      1.011024     97.394943   \n",
       "std        1.102988      0.123162      0.469029      0.146444     12.355156   \n",
       "min       -1.000000     -1.000000     -1.000000     -1.000000     -1.000000   \n",
       "25%        1.000000      1.000000      1.000000      1.000000     99.000000   \n",
       "50%        2.000000      1.000000      1.000000      1.000000     99.000000   \n",
       "75%        3.000000      1.000000      1.000000      1.000000     99.000000   \n",
       "max        4.000000      3.000000      3.000000      3.000000     99.000000   \n",
       "\n",
       "           ...            TOOLONG      TROUBUND        PDEN10       COUTYP2  \\\n",
       "count      ...       45718.000000  45718.000000  45718.000000  45718.000000   \n",
       "mean       ...           2.219410      2.234940      1.646135      1.764666   \n",
       "std        ...           5.295784      5.293651      0.618403      0.771411   \n",
       "min        ...          -1.000000     -1.000000     -1.000000     -1.000000   \n",
       "25%        ...           2.000000      2.000000      1.000000      1.000000   \n",
       "50%        ...           2.000000      2.000000      2.000000      2.000000   \n",
       "75%        ...           2.000000      2.000000      2.000000      2.000000   \n",
       "max        ...          98.000000     98.000000      3.000000      3.000000   \n",
       "\n",
       "           MAIIN102      AIIND102       ANALWT_C         VESTR         VEREP  \\\n",
       "count  45718.000000  45718.000000   45718.000000  45718.000000  45718.000000   \n",
       "mean       1.978936      1.978739    4692.661179  40023.739118      1.493854   \n",
       "std        0.144510      0.145161    5724.659486    265.140430      0.500230   \n",
       "min       -1.000000     -1.000000      -1.000000     -1.000000     -1.000000   \n",
       "25%        2.000000      2.000000    1252.396472  40013.000000      1.000000   \n",
       "50%        2.000000      2.000000    2719.335160  40025.000000      1.000000   \n",
       "75%        2.000000      2.000000    5765.810794  40039.000000      2.000000   \n",
       "max        2.000000      2.000000  109100.623000  40050.000000      2.000000   \n",
       "\n",
       "           Criminal  \n",
       "count  45718.000000  \n",
       "mean       0.069447  \n",
       "std        0.254216  \n",
       "min        0.000000  \n",
       "25%        0.000000  \n",
       "50%        0.000000  \n",
       "75%        0.000000  \n",
       "max        1.000000  \n",
       "\n",
       "[8 rows x 72 columns]"
      ]
     },
     "execution_count": 18,
     "metadata": {},
     "output_type": "execute_result"
    }
   ],
   "source": [
    "#Descriptive statistics of our training Dataset.\n",
    "criminals_train.describe()"
   ]
  },
  {
   "cell_type": "code",
   "execution_count": 19,
   "metadata": {},
   "outputs": [
    {
     "data": {
      "text/html": [
       "<div>\n",
       "<style>\n",
       "    .dataframe thead tr:only-child th {\n",
       "        text-align: right;\n",
       "    }\n",
       "\n",
       "    .dataframe thead th {\n",
       "        text-align: left;\n",
       "    }\n",
       "\n",
       "    .dataframe tbody tr th {\n",
       "        vertical-align: top;\n",
       "    }\n",
       "</style>\n",
       "<table border=\"1\" class=\"dataframe\">\n",
       "  <thead>\n",
       "    <tr style=\"text-align: right;\">\n",
       "      <th></th>\n",
       "      <th>PERID</th>\n",
       "      <th>IFATHER</th>\n",
       "      <th>NRCH17_2</th>\n",
       "      <th>IRHHSIZ2</th>\n",
       "      <th>IIHHSIZ2</th>\n",
       "      <th>IRKI17_2</th>\n",
       "      <th>IIKI17_2</th>\n",
       "      <th>IRHH65_2</th>\n",
       "      <th>IIHH65_2</th>\n",
       "      <th>PRXRETRY</th>\n",
       "      <th>...</th>\n",
       "      <th>TOOLONG</th>\n",
       "      <th>TROUBUND</th>\n",
       "      <th>PDEN10</th>\n",
       "      <th>COUTYP2</th>\n",
       "      <th>MAIIN102</th>\n",
       "      <th>AIIND102</th>\n",
       "      <th>ANALWT_C</th>\n",
       "      <th>VESTR</th>\n",
       "      <th>VEREP</th>\n",
       "      <th>Criminal</th>\n",
       "    </tr>\n",
       "  </thead>\n",
       "  <tbody>\n",
       "    <tr>\n",
       "      <th>0</th>\n",
       "      <td>25095143</td>\n",
       "      <td>4</td>\n",
       "      <td>2</td>\n",
       "      <td>4</td>\n",
       "      <td>1</td>\n",
       "      <td>3</td>\n",
       "      <td>1</td>\n",
       "      <td>1</td>\n",
       "      <td>1</td>\n",
       "      <td>99</td>\n",
       "      <td>...</td>\n",
       "      <td>1</td>\n",
       "      <td>2</td>\n",
       "      <td>1</td>\n",
       "      <td>1</td>\n",
       "      <td>2</td>\n",
       "      <td>2</td>\n",
       "      <td>3884.805998</td>\n",
       "      <td>40026</td>\n",
       "      <td>1</td>\n",
       "      <td>0</td>\n",
       "    </tr>\n",
       "    <tr>\n",
       "      <th>1</th>\n",
       "      <td>13005143</td>\n",
       "      <td>4</td>\n",
       "      <td>1</td>\n",
       "      <td>3</td>\n",
       "      <td>1</td>\n",
       "      <td>2</td>\n",
       "      <td>1</td>\n",
       "      <td>1</td>\n",
       "      <td>1</td>\n",
       "      <td>99</td>\n",
       "      <td>...</td>\n",
       "      <td>2</td>\n",
       "      <td>2</td>\n",
       "      <td>2</td>\n",
       "      <td>3</td>\n",
       "      <td>2</td>\n",
       "      <td>2</td>\n",
       "      <td>1627.108106</td>\n",
       "      <td>40015</td>\n",
       "      <td>2</td>\n",
       "      <td>1</td>\n",
       "    </tr>\n",
       "    <tr>\n",
       "      <th>2</th>\n",
       "      <td>67415143</td>\n",
       "      <td>4</td>\n",
       "      <td>1</td>\n",
       "      <td>2</td>\n",
       "      <td>1</td>\n",
       "      <td>2</td>\n",
       "      <td>1</td>\n",
       "      <td>1</td>\n",
       "      <td>1</td>\n",
       "      <td>99</td>\n",
       "      <td>...</td>\n",
       "      <td>2</td>\n",
       "      <td>2</td>\n",
       "      <td>2</td>\n",
       "      <td>3</td>\n",
       "      <td>2</td>\n",
       "      <td>2</td>\n",
       "      <td>4344.957980</td>\n",
       "      <td>40024</td>\n",
       "      <td>1</td>\n",
       "      <td>0</td>\n",
       "    </tr>\n",
       "    <tr>\n",
       "      <th>3</th>\n",
       "      <td>70925143</td>\n",
       "      <td>4</td>\n",
       "      <td>0</td>\n",
       "      <td>2</td>\n",
       "      <td>1</td>\n",
       "      <td>1</td>\n",
       "      <td>1</td>\n",
       "      <td>1</td>\n",
       "      <td>1</td>\n",
       "      <td>99</td>\n",
       "      <td>...</td>\n",
       "      <td>2</td>\n",
       "      <td>2</td>\n",
       "      <td>1</td>\n",
       "      <td>1</td>\n",
       "      <td>2</td>\n",
       "      <td>2</td>\n",
       "      <td>792.521931</td>\n",
       "      <td>40027</td>\n",
       "      <td>1</td>\n",
       "      <td>0</td>\n",
       "    </tr>\n",
       "    <tr>\n",
       "      <th>4</th>\n",
       "      <td>75235143</td>\n",
       "      <td>1</td>\n",
       "      <td>0</td>\n",
       "      <td>6</td>\n",
       "      <td>1</td>\n",
       "      <td>4</td>\n",
       "      <td>1</td>\n",
       "      <td>1</td>\n",
       "      <td>1</td>\n",
       "      <td>99</td>\n",
       "      <td>...</td>\n",
       "      <td>2</td>\n",
       "      <td>2</td>\n",
       "      <td>2</td>\n",
       "      <td>2</td>\n",
       "      <td>2</td>\n",
       "      <td>2</td>\n",
       "      <td>1518.118526</td>\n",
       "      <td>40001</td>\n",
       "      <td>2</td>\n",
       "      <td>0</td>\n",
       "    </tr>\n",
       "  </tbody>\n",
       "</table>\n",
       "<p>5 rows × 72 columns</p>\n",
       "</div>"
      ],
      "text/plain": [
       "      PERID  IFATHER  NRCH17_2  IRHHSIZ2  IIHHSIZ2  IRKI17_2  IIKI17_2  \\\n",
       "0  25095143        4         2         4         1         3         1   \n",
       "1  13005143        4         1         3         1         2         1   \n",
       "2  67415143        4         1         2         1         2         1   \n",
       "3  70925143        4         0         2         1         1         1   \n",
       "4  75235143        1         0         6         1         4         1   \n",
       "\n",
       "   IRHH65_2  IIHH65_2  PRXRETRY    ...     TOOLONG  TROUBUND  PDEN10  COUTYP2  \\\n",
       "0         1         1        99    ...           1         2       1        1   \n",
       "1         1         1        99    ...           2         2       2        3   \n",
       "2         1         1        99    ...           2         2       2        3   \n",
       "3         1         1        99    ...           2         2       1        1   \n",
       "4         1         1        99    ...           2         2       2        2   \n",
       "\n",
       "   MAIIN102  AIIND102     ANALWT_C  VESTR  VEREP  Criminal  \n",
       "0         2         2  3884.805998  40026      1         0  \n",
       "1         2         2  1627.108106  40015      2         1  \n",
       "2         2         2  4344.957980  40024      1         0  \n",
       "3         2         2   792.521931  40027      1         0  \n",
       "4         2         2  1518.118526  40001      2         0  \n",
       "\n",
       "[5 rows x 72 columns]"
      ]
     },
     "execution_count": 19,
     "metadata": {},
     "output_type": "execute_result"
    }
   ],
   "source": [
    "#Training Dataset\n",
    "criminals_train.head(5)"
   ]
  },
  {
   "cell_type": "markdown",
   "metadata": {},
   "source": [
    "Below Feature Engineering is done after deep analysis on a dataset. You can go through by analyzing the training dataset. I only presented the code."
   ]
  },
  {
   "cell_type": "code",
   "execution_count": 20,
   "metadata": {
    "collapsed": true
   },
   "outputs": [],
   "source": [
    "#Droping couple of features that we don't need or may decreasing performance of our model.\n",
    "criminals_train = criminals_train.drop(['IIKI17_2','IIHHSIZ2','IIHH65_2','IIMEDICR','IICHMPUS','IIPRVHLT','IIOTHHLT','IIINSUR4','IIFAMSOC','IIFAMSSI','IIFSTAMP','IIFAMPMT','IIFAMSVC','IIWELMOS','IIPINC3','IIFAMIN3','IRMCDCHP'], axis = 1)\n",
    "criminals_train = criminals_train.drop(['IRWELMOS','IROTHHLT','HLCALLFG','HLCALL99','PRXRETRY','PRXYDATA','HLTINNOS','HLCNOTMO','HLCLAST','HLLOSRSN','HLNVCOST','HLNVOFFR','HLNVREF','HLNVNEED','HLNVSOR','ANALWT_C','VESTR'], axis = 1)"
   ]
  },
  {
   "cell_type": "code",
   "execution_count": 21,
   "metadata": {
    "collapsed": true
   },
   "outputs": [],
   "source": [
    "#Droping the two rows with NA values\n",
    "criminals_train.drop(19230, inplace = True)\n",
    "criminals_train.drop(44281, inplace = True)"
   ]
  },
  {
   "cell_type": "code",
   "execution_count": 22,
   "metadata": {},
   "outputs": [],
   "source": [
    "#Replacing the NA values of some Features \n",
    "criminals_train['NRCH17_2'] = criminals_train['NRCH17_2'].replace(-1,0)\n",
    "criminals_train['POVERTY3'] = criminals_train['POVERTY3'].replace(-1,1)"
   ]
  },
  {
   "cell_type": "code",
   "execution_count": 23,
   "metadata": {},
   "outputs": [],
   "source": [
    "#Droping the first column of the training dataset(No use of model)\n",
    "criminals_train = criminals_train.drop('PERID',axis = 1)"
   ]
  },
  {
   "cell_type": "markdown",
   "metadata": {
    "collapsed": true
   },
   "source": [
    "# Let's Visualize the training data set"
   ]
  },
  {
   "cell_type": "code",
   "execution_count": 24,
   "metadata": {},
   "outputs": [
    {
     "data": {
      "text/plain": [
       "<matplotlib.axes._subplots.AxesSubplot at 0x91fcf70>"
      ]
     },
     "execution_count": 24,
     "metadata": {},
     "output_type": "execute_result"
    },
    {
     "data": {
      "image/png": "[encoded data removed]",
      "text/plain": [
       "<matplotlib.figure.Figure at 0x91fc5f0>"
      ]
     },
     "metadata": {},
     "output_type": "display_data"
    }
   ],
   "source": [
    "#After data cleaning visualizing the feature 'NRCH17_2' with hue 'Criminal'\n",
    "sns.countplot(x = 'NRCH17_2', data = criminals_train, hue = 'Criminal', palette = 'rainbow')"
   ]
  },
  {
   "cell_type": "code",
   "execution_count": 27,
   "metadata": {},
   "outputs": [
    {
     "data": {
      "text/plain": [
       "<matplotlib.axes._subplots.AxesSubplot at 0x91fc330>"
      ]
     },
     "execution_count": 27,
     "metadata": {},
     "output_type": "execute_result"
    },
    {
     "data": {
      "image/png": "[encoded data removed]",
      "text/plain": [
       "<matplotlib.figure.Figure at 0x925e2d0>"
      ]
     },
     "metadata": {},
     "output_type": "display_data"
    }
   ],
   "source": [
    "#After data cleaning visualizing the feature 'POVERTY3' with hue 'Criminal'\n",
    "sns.countplot(x = 'POVERTY3', data = criminals_train, hue = 'Criminal', palette = 'rainbow')"
   ]
  },
  {
   "cell_type": "markdown",
   "metadata": {
    "collapsed": true
   },
   "source": [
    "# Let's Do some Exploratory Data Analysis on Test Dataset"
   ]
  },
  {
   "cell_type": "code",
   "execution_count": 28,
   "metadata": {},
   "outputs": [
    {
     "name": "stdout",
     "output_type": "stream",
     "text": [
      "<class 'pandas.core.frame.DataFrame'>\n",
      "RangeIndex: 11430 entries, 0 to 11429\n",
      "Data columns (total 71 columns):\n",
      "PERID        11430 non-null int64\n",
      "IFATHER      11430 non-null int64\n",
      "NRCH17_2     11430 non-null int64\n",
      "IRHHSIZ2     11430 non-null int64\n",
      "IIHHSIZ2     11430 non-null int64\n",
      "IRKI17_2     11430 non-null int64\n",
      "IIKI17_2     11430 non-null int64\n",
      "IRHH65_2     11430 non-null int64\n",
      "IIHH65_2     11430 non-null int64\n",
      "PRXRETRY     11430 non-null int64\n",
      "PRXYDATA     11430 non-null int64\n",
      "MEDICARE     11430 non-null int64\n",
      "CAIDCHIP     11430 non-null int64\n",
      "CHAMPUS      11430 non-null int64\n",
      "PRVHLTIN     11430 non-null int64\n",
      "GRPHLTIN     11430 non-null int64\n",
      "HLTINNOS     11430 non-null int64\n",
      "HLCNOTYR     11430 non-null int64\n",
      "HLCNOTMO     11430 non-null int64\n",
      "HLCLAST      11430 non-null int64\n",
      "HLLOSRSN     11430 non-null int64\n",
      "HLNVCOST     11430 non-null int64\n",
      "HLNVOFFR     11430 non-null int64\n",
      "HLNVREF      11430 non-null int64\n",
      "HLNVNEED     11430 non-null int64\n",
      "HLNVSOR      11430 non-null int64\n",
      "IRMCDCHP     11430 non-null int64\n",
      "IIMCDCHP     11430 non-null int64\n",
      "IRMEDICR     11430 non-null int64\n",
      "IIMEDICR     11430 non-null int64\n",
      "IRCHMPUS     11430 non-null int64\n",
      "IICHMPUS     11430 non-null int64\n",
      "IRPRVHLT     11430 non-null int64\n",
      "IIPRVHLT     11430 non-null int64\n",
      "IROTHHLT     11430 non-null int64\n",
      "IIOTHHLT     11430 non-null int64\n",
      "HLCALLFG     11430 non-null int64\n",
      "HLCALL99     11430 non-null int64\n",
      "ANYHLTI2     11430 non-null int64\n",
      "IRINSUR4     11430 non-null int64\n",
      "IIINSUR4     11430 non-null int64\n",
      "OTHINS       11430 non-null int64\n",
      "CELLNOTCL    11430 non-null int64\n",
      "CELLWRKNG    11430 non-null int64\n",
      "IRFAMSOC     11430 non-null int64\n",
      "IIFAMSOC     11430 non-null int64\n",
      "IRFAMSSI     11430 non-null int64\n",
      "IIFAMSSI     11430 non-null int64\n",
      "IRFSTAMP     11430 non-null int64\n",
      "IIFSTAMP     11430 non-null int64\n",
      "IRFAMPMT     11430 non-null int64\n",
      "IIFAMPMT     11430 non-null int64\n",
      "IRFAMSVC     11430 non-null int64\n",
      "IIFAMSVC     11430 non-null int64\n",
      "IRWELMOS     11430 non-null int64\n",
      "IIWELMOS     11430 non-null int64\n",
      "IRPINC3      11430 non-null int64\n",
      "IRFAMIN3     11430 non-null int64\n",
      "IIPINC3      11430 non-null int64\n",
      "IIFAMIN3     11430 non-null int64\n",
      "GOVTPROG     11430 non-null int64\n",
      "POVERTY3     11430 non-null int64\n",
      "TOOLONG      11430 non-null int64\n",
      "TROUBUND     11430 non-null int64\n",
      "PDEN10       11430 non-null int64\n",
      "COUTYP2      11430 non-null int64\n",
      "MAIIN102     11430 non-null int64\n",
      "AIIND102     11430 non-null int64\n",
      "ANALWT_C     11430 non-null float64\n",
      "VESTR        11430 non-null int64\n",
      "VEREP        11430 non-null int64\n",
      "dtypes: float64(1), int64(70)\n",
      "memory usage: 6.2 MB\n"
     ]
    }
   ],
   "source": [
    "#Summary of a test Data Set.\n",
    "criminals_test.info()"
   ]
  },
  {
   "cell_type": "code",
   "execution_count": 29,
   "metadata": {},
   "outputs": [
    {
     "data": {
      "text/html": [
       "<div>\n",
       "<style>\n",
       "    .dataframe thead tr:only-child th {\n",
       "        text-align: right;\n",
       "    }\n",
       "\n",
       "    .dataframe thead th {\n",
       "        text-align: left;\n",
       "    }\n",
       "\n",
       "    .dataframe tbody tr th {\n",
       "        vertical-align: top;\n",
       "    }\n",
       "</style>\n",
       "<table border=\"1\" class=\"dataframe\">\n",
       "  <thead>\n",
       "    <tr style=\"text-align: right;\">\n",
       "      <th></th>\n",
       "      <th>PERID</th>\n",
       "      <th>IFATHER</th>\n",
       "      <th>NRCH17_2</th>\n",
       "      <th>IRHHSIZ2</th>\n",
       "      <th>IIHHSIZ2</th>\n",
       "      <th>IRKI17_2</th>\n",
       "      <th>IIKI17_2</th>\n",
       "      <th>IRHH65_2</th>\n",
       "      <th>IIHH65_2</th>\n",
       "      <th>PRXRETRY</th>\n",
       "      <th>...</th>\n",
       "      <th>POVERTY3</th>\n",
       "      <th>TOOLONG</th>\n",
       "      <th>TROUBUND</th>\n",
       "      <th>PDEN10</th>\n",
       "      <th>COUTYP2</th>\n",
       "      <th>MAIIN102</th>\n",
       "      <th>AIIND102</th>\n",
       "      <th>ANALWT_C</th>\n",
       "      <th>VESTR</th>\n",
       "      <th>VEREP</th>\n",
       "    </tr>\n",
       "  </thead>\n",
       "  <tbody>\n",
       "    <tr>\n",
       "      <th>count</th>\n",
       "      <td>1.143000e+04</td>\n",
       "      <td>11430.000000</td>\n",
       "      <td>11430.000000</td>\n",
       "      <td>11430.000000</td>\n",
       "      <td>11430.000000</td>\n",
       "      <td>11430.000000</td>\n",
       "      <td>11430.000000</td>\n",
       "      <td>11430.000000</td>\n",
       "      <td>11430.000000</td>\n",
       "      <td>11430.000000</td>\n",
       "      <td>...</td>\n",
       "      <td>11430.000000</td>\n",
       "      <td>11430.000000</td>\n",
       "      <td>11430.000000</td>\n",
       "      <td>11430.000000</td>\n",
       "      <td>11430.000000</td>\n",
       "      <td>11430.000000</td>\n",
       "      <td>11430.00000</td>\n",
       "      <td>11430.000000</td>\n",
       "      <td>11430.000000</td>\n",
       "      <td>11430.000000</td>\n",
       "    </tr>\n",
       "    <tr>\n",
       "      <th>mean</th>\n",
       "      <td>5.456695e+07</td>\n",
       "      <td>3.346282</td>\n",
       "      <td>0.477778</td>\n",
       "      <td>3.431584</td>\n",
       "      <td>1.000525</td>\n",
       "      <td>2.092476</td>\n",
       "      <td>1.005774</td>\n",
       "      <td>1.158443</td>\n",
       "      <td>1.009799</td>\n",
       "      <td>97.321960</td>\n",
       "      <td>...</td>\n",
       "      <td>2.332983</td>\n",
       "      <td>2.171916</td>\n",
       "      <td>2.187402</td>\n",
       "      <td>1.637445</td>\n",
       "      <td>1.759230</td>\n",
       "      <td>1.977515</td>\n",
       "      <td>1.97699</td>\n",
       "      <td>4650.516482</td>\n",
       "      <td>40025.693788</td>\n",
       "      <td>1.498863</td>\n",
       "    </tr>\n",
       "    <tr>\n",
       "      <th>std</th>\n",
       "      <td>2.549971e+07</td>\n",
       "      <td>1.184133</td>\n",
       "      <td>0.883534</td>\n",
       "      <td>1.431921</td>\n",
       "      <td>0.032399</td>\n",
       "      <td>1.099927</td>\n",
       "      <td>0.107314</td>\n",
       "      <td>0.465642</td>\n",
       "      <td>0.137125</td>\n",
       "      <td>12.625152</td>\n",
       "      <td>...</td>\n",
       "      <td>0.846762</td>\n",
       "      <td>4.840127</td>\n",
       "      <td>4.837951</td>\n",
       "      <td>0.619313</td>\n",
       "      <td>0.775613</td>\n",
       "      <td>0.148260</td>\n",
       "      <td>0.14994</td>\n",
       "      <td>5702.448324</td>\n",
       "      <td>14.650226</td>\n",
       "      <td>0.500021</td>\n",
       "    </tr>\n",
       "    <tr>\n",
       "      <th>min</th>\n",
       "      <td>1.000192e+07</td>\n",
       "      <td>1.000000</td>\n",
       "      <td>-1.000000</td>\n",
       "      <td>1.000000</td>\n",
       "      <td>1.000000</td>\n",
       "      <td>1.000000</td>\n",
       "      <td>1.000000</td>\n",
       "      <td>1.000000</td>\n",
       "      <td>1.000000</td>\n",
       "      <td>2.000000</td>\n",
       "      <td>...</td>\n",
       "      <td>-1.000000</td>\n",
       "      <td>1.000000</td>\n",
       "      <td>1.000000</td>\n",
       "      <td>1.000000</td>\n",
       "      <td>1.000000</td>\n",
       "      <td>1.000000</td>\n",
       "      <td>1.00000</td>\n",
       "      <td>4.126338</td>\n",
       "      <td>40001.000000</td>\n",
       "      <td>1.000000</td>\n",
       "    </tr>\n",
       "    <tr>\n",
       "      <th>25%</th>\n",
       "      <td>3.254394e+07</td>\n",
       "      <td>4.000000</td>\n",
       "      <td>0.000000</td>\n",
       "      <td>2.000000</td>\n",
       "      <td>1.000000</td>\n",
       "      <td>1.000000</td>\n",
       "      <td>1.000000</td>\n",
       "      <td>1.000000</td>\n",
       "      <td>1.000000</td>\n",
       "      <td>99.000000</td>\n",
       "      <td>...</td>\n",
       "      <td>2.000000</td>\n",
       "      <td>2.000000</td>\n",
       "      <td>2.000000</td>\n",
       "      <td>1.000000</td>\n",
       "      <td>1.000000</td>\n",
       "      <td>2.000000</td>\n",
       "      <td>2.00000</td>\n",
       "      <td>1213.092411</td>\n",
       "      <td>40013.000000</td>\n",
       "      <td>1.000000</td>\n",
       "    </tr>\n",
       "    <tr>\n",
       "      <th>50%</th>\n",
       "      <td>5.443707e+07</td>\n",
       "      <td>4.000000</td>\n",
       "      <td>0.000000</td>\n",
       "      <td>3.000000</td>\n",
       "      <td>1.000000</td>\n",
       "      <td>2.000000</td>\n",
       "      <td>1.000000</td>\n",
       "      <td>1.000000</td>\n",
       "      <td>1.000000</td>\n",
       "      <td>99.000000</td>\n",
       "      <td>...</td>\n",
       "      <td>3.000000</td>\n",
       "      <td>2.000000</td>\n",
       "      <td>2.000000</td>\n",
       "      <td>2.000000</td>\n",
       "      <td>2.000000</td>\n",
       "      <td>2.000000</td>\n",
       "      <td>2.00000</td>\n",
       "      <td>2733.566953</td>\n",
       "      <td>40025.000000</td>\n",
       "      <td>1.000000</td>\n",
       "    </tr>\n",
       "    <tr>\n",
       "      <th>75%</th>\n",
       "      <td>7.645086e+07</td>\n",
       "      <td>4.000000</td>\n",
       "      <td>1.000000</td>\n",
       "      <td>4.000000</td>\n",
       "      <td>1.000000</td>\n",
       "      <td>3.000000</td>\n",
       "      <td>1.000000</td>\n",
       "      <td>1.000000</td>\n",
       "      <td>1.000000</td>\n",
       "      <td>99.000000</td>\n",
       "      <td>...</td>\n",
       "      <td>3.000000</td>\n",
       "      <td>2.000000</td>\n",
       "      <td>2.000000</td>\n",
       "      <td>2.000000</td>\n",
       "      <td>2.000000</td>\n",
       "      <td>2.000000</td>\n",
       "      <td>2.00000</td>\n",
       "      <td>5756.410628</td>\n",
       "      <td>40039.000000</td>\n",
       "      <td>2.000000</td>\n",
       "    </tr>\n",
       "    <tr>\n",
       "      <th>max</th>\n",
       "      <td>9.999490e+07</td>\n",
       "      <td>4.000000</td>\n",
       "      <td>3.000000</td>\n",
       "      <td>6.000000</td>\n",
       "      <td>3.000000</td>\n",
       "      <td>4.000000</td>\n",
       "      <td>3.000000</td>\n",
       "      <td>3.000000</td>\n",
       "      <td>3.000000</td>\n",
       "      <td>99.000000</td>\n",
       "      <td>...</td>\n",
       "      <td>3.000000</td>\n",
       "      <td>98.000000</td>\n",
       "      <td>98.000000</td>\n",
       "      <td>3.000000</td>\n",
       "      <td>3.000000</td>\n",
       "      <td>2.000000</td>\n",
       "      <td>2.00000</td>\n",
       "      <td>80041.201190</td>\n",
       "      <td>40050.000000</td>\n",
       "      <td>2.000000</td>\n",
       "    </tr>\n",
       "  </tbody>\n",
       "</table>\n",
       "<p>8 rows × 71 columns</p>\n",
       "</div>"
      ],
      "text/plain": [
       "              PERID       IFATHER      NRCH17_2      IRHHSIZ2      IIHHSIZ2  \\\n",
       "count  1.143000e+04  11430.000000  11430.000000  11430.000000  11430.000000   \n",
       "mean   5.456695e+07      3.346282      0.477778      3.431584      1.000525   \n",
       "std    2.549971e+07      1.184133      0.883534      1.431921      0.032399   \n",
       "min    1.000192e+07      1.000000     -1.000000      1.000000      1.000000   \n",
       "25%    3.254394e+07      4.000000      0.000000      2.000000      1.000000   \n",
       "50%    5.443707e+07      4.000000      0.000000      3.000000      1.000000   \n",
       "75%    7.645086e+07      4.000000      1.000000      4.000000      1.000000   \n",
       "max    9.999490e+07      4.000000      3.000000      6.000000      3.000000   \n",
       "\n",
       "           IRKI17_2      IIKI17_2      IRHH65_2      IIHH65_2      PRXRETRY  \\\n",
       "count  11430.000000  11430.000000  11430.000000  11430.000000  11430.000000   \n",
       "mean       2.092476      1.005774      1.158443      1.009799     97.321960   \n",
       "std        1.099927      0.107314      0.465642      0.137125     12.625152   \n",
       "min        1.000000      1.000000      1.000000      1.000000      2.000000   \n",
       "25%        1.000000      1.000000      1.000000      1.000000     99.000000   \n",
       "50%        2.000000      1.000000      1.000000      1.000000     99.000000   \n",
       "75%        3.000000      1.000000      1.000000      1.000000     99.000000   \n",
       "max        4.000000      3.000000      3.000000      3.000000     99.000000   \n",
       "\n",
       "           ...           POVERTY3       TOOLONG      TROUBUND        PDEN10  \\\n",
       "count      ...       11430.000000  11430.000000  11430.000000  11430.000000   \n",
       "mean       ...           2.332983      2.171916      2.187402      1.637445   \n",
       "std        ...           0.846762      4.840127      4.837951      0.619313   \n",
       "min        ...          -1.000000      1.000000      1.000000      1.000000   \n",
       "25%        ...           2.000000      2.000000      2.000000      1.000000   \n",
       "50%        ...           3.000000      2.000000      2.000000      2.000000   \n",
       "75%        ...           3.000000      2.000000      2.000000      2.000000   \n",
       "max        ...           3.000000     98.000000     98.000000      3.000000   \n",
       "\n",
       "            COUTYP2      MAIIN102     AIIND102      ANALWT_C         VESTR  \\\n",
       "count  11430.000000  11430.000000  11430.00000  11430.000000  11430.000000   \n",
       "mean       1.759230      1.977515      1.97699   4650.516482  40025.693788   \n",
       "std        0.775613      0.148260      0.14994   5702.448324     14.650226   \n",
       "min        1.000000      1.000000      1.00000      4.126338  40001.000000   \n",
       "25%        1.000000      2.000000      2.00000   1213.092411  40013.000000   \n",
       "50%        2.000000      2.000000      2.00000   2733.566953  40025.000000   \n",
       "75%        2.000000      2.000000      2.00000   5756.410628  40039.000000   \n",
       "max        3.000000      2.000000      2.00000  80041.201190  40050.000000   \n",
       "\n",
       "              VEREP  \n",
       "count  11430.000000  \n",
       "mean       1.498863  \n",
       "std        0.500021  \n",
       "min        1.000000  \n",
       "25%        1.000000  \n",
       "50%        1.000000  \n",
       "75%        2.000000  \n",
       "max        2.000000  \n",
       "\n",
       "[8 rows x 71 columns]"
      ]
     },
     "execution_count": 29,
     "metadata": {},
     "output_type": "execute_result"
    }
   ],
   "source": [
    "#Descriptive statistics of our test Dataset.\n",
    "criminals_test.describe()"
   ]
  },
  {
   "cell_type": "code",
   "execution_count": 30,
   "metadata": {},
   "outputs": [
    {
     "data": {
      "text/html": [
       "<div>\n",
       "<style>\n",
       "    .dataframe thead tr:only-child th {\n",
       "        text-align: right;\n",
       "    }\n",
       "\n",
       "    .dataframe thead th {\n",
       "        text-align: left;\n",
       "    }\n",
       "\n",
       "    .dataframe tbody tr th {\n",
       "        vertical-align: top;\n",
       "    }\n",
       "</style>\n",
       "<table border=\"1\" class=\"dataframe\">\n",
       "  <thead>\n",
       "    <tr style=\"text-align: right;\">\n",
       "      <th></th>\n",
       "      <th>PERID</th>\n",
       "      <th>IFATHER</th>\n",
       "      <th>NRCH17_2</th>\n",
       "      <th>IRHHSIZ2</th>\n",
       "      <th>IIHHSIZ2</th>\n",
       "      <th>IRKI17_2</th>\n",
       "      <th>IIKI17_2</th>\n",
       "      <th>IRHH65_2</th>\n",
       "      <th>IIHH65_2</th>\n",
       "      <th>PRXRETRY</th>\n",
       "      <th>...</th>\n",
       "      <th>POVERTY3</th>\n",
       "      <th>TOOLONG</th>\n",
       "      <th>TROUBUND</th>\n",
       "      <th>PDEN10</th>\n",
       "      <th>COUTYP2</th>\n",
       "      <th>MAIIN102</th>\n",
       "      <th>AIIND102</th>\n",
       "      <th>ANALWT_C</th>\n",
       "      <th>VESTR</th>\n",
       "      <th>VEREP</th>\n",
       "    </tr>\n",
       "  </thead>\n",
       "  <tbody>\n",
       "    <tr>\n",
       "      <th>0</th>\n",
       "      <td>66583679</td>\n",
       "      <td>4</td>\n",
       "      <td>0</td>\n",
       "      <td>4</td>\n",
       "      <td>1</td>\n",
       "      <td>2</td>\n",
       "      <td>1</td>\n",
       "      <td>1</td>\n",
       "      <td>1</td>\n",
       "      <td>99</td>\n",
       "      <td>...</td>\n",
       "      <td>2</td>\n",
       "      <td>2</td>\n",
       "      <td>2</td>\n",
       "      <td>1</td>\n",
       "      <td>1</td>\n",
       "      <td>2</td>\n",
       "      <td>2</td>\n",
       "      <td>16346.795400</td>\n",
       "      <td>40020</td>\n",
       "      <td>1</td>\n",
       "    </tr>\n",
       "    <tr>\n",
       "      <th>1</th>\n",
       "      <td>35494679</td>\n",
       "      <td>4</td>\n",
       "      <td>0</td>\n",
       "      <td>4</td>\n",
       "      <td>1</td>\n",
       "      <td>1</td>\n",
       "      <td>1</td>\n",
       "      <td>1</td>\n",
       "      <td>1</td>\n",
       "      <td>99</td>\n",
       "      <td>...</td>\n",
       "      <td>3</td>\n",
       "      <td>2</td>\n",
       "      <td>2</td>\n",
       "      <td>1</td>\n",
       "      <td>1</td>\n",
       "      <td>2</td>\n",
       "      <td>2</td>\n",
       "      <td>3008.863906</td>\n",
       "      <td>40044</td>\n",
       "      <td>2</td>\n",
       "    </tr>\n",
       "    <tr>\n",
       "      <th>2</th>\n",
       "      <td>79424679</td>\n",
       "      <td>2</td>\n",
       "      <td>0</td>\n",
       "      <td>3</td>\n",
       "      <td>1</td>\n",
       "      <td>2</td>\n",
       "      <td>1</td>\n",
       "      <td>1</td>\n",
       "      <td>1</td>\n",
       "      <td>99</td>\n",
       "      <td>...</td>\n",
       "      <td>1</td>\n",
       "      <td>2</td>\n",
       "      <td>2</td>\n",
       "      <td>2</td>\n",
       "      <td>2</td>\n",
       "      <td>2</td>\n",
       "      <td>2</td>\n",
       "      <td>266.952503</td>\n",
       "      <td>40040</td>\n",
       "      <td>2</td>\n",
       "    </tr>\n",
       "    <tr>\n",
       "      <th>3</th>\n",
       "      <td>11744679</td>\n",
       "      <td>4</td>\n",
       "      <td>0</td>\n",
       "      <td>6</td>\n",
       "      <td>1</td>\n",
       "      <td>2</td>\n",
       "      <td>1</td>\n",
       "      <td>1</td>\n",
       "      <td>1</td>\n",
       "      <td>99</td>\n",
       "      <td>...</td>\n",
       "      <td>3</td>\n",
       "      <td>2</td>\n",
       "      <td>2</td>\n",
       "      <td>1</td>\n",
       "      <td>1</td>\n",
       "      <td>2</td>\n",
       "      <td>2</td>\n",
       "      <td>5386.928199</td>\n",
       "      <td>40017</td>\n",
       "      <td>1</td>\n",
       "    </tr>\n",
       "    <tr>\n",
       "      <th>4</th>\n",
       "      <td>31554679</td>\n",
       "      <td>1</td>\n",
       "      <td>0</td>\n",
       "      <td>4</td>\n",
       "      <td>1</td>\n",
       "      <td>3</td>\n",
       "      <td>1</td>\n",
       "      <td>1</td>\n",
       "      <td>1</td>\n",
       "      <td>99</td>\n",
       "      <td>...</td>\n",
       "      <td>3</td>\n",
       "      <td>2</td>\n",
       "      <td>1</td>\n",
       "      <td>1</td>\n",
       "      <td>1</td>\n",
       "      <td>2</td>\n",
       "      <td>2</td>\n",
       "      <td>173.489895</td>\n",
       "      <td>40017</td>\n",
       "      <td>1</td>\n",
       "    </tr>\n",
       "  </tbody>\n",
       "</table>\n",
       "<p>5 rows × 71 columns</p>\n",
       "</div>"
      ],
      "text/plain": [
       "      PERID  IFATHER  NRCH17_2  IRHHSIZ2  IIHHSIZ2  IRKI17_2  IIKI17_2  \\\n",
       "0  66583679        4         0         4         1         2         1   \n",
       "1  35494679        4         0         4         1         1         1   \n",
       "2  79424679        2         0         3         1         2         1   \n",
       "3  11744679        4         0         6         1         2         1   \n",
       "4  31554679        1         0         4         1         3         1   \n",
       "\n",
       "   IRHH65_2  IIHH65_2  PRXRETRY  ...    POVERTY3  TOOLONG  TROUBUND  PDEN10  \\\n",
       "0         1         1        99  ...           2        2         2       1   \n",
       "1         1         1        99  ...           3        2         2       1   \n",
       "2         1         1        99  ...           1        2         2       2   \n",
       "3         1         1        99  ...           3        2         2       1   \n",
       "4         1         1        99  ...           3        2         1       1   \n",
       "\n",
       "   COUTYP2  MAIIN102  AIIND102      ANALWT_C  VESTR  VEREP  \n",
       "0        1         2         2  16346.795400  40020      1  \n",
       "1        1         2         2   3008.863906  40044      2  \n",
       "2        2         2         2    266.952503  40040      2  \n",
       "3        1         2         2   5386.928199  40017      1  \n",
       "4        1         2         2    173.489895  40017      1  \n",
       "\n",
       "[5 rows x 71 columns]"
      ]
     },
     "execution_count": 30,
     "metadata": {},
     "output_type": "execute_result"
    }
   ],
   "source": [
    "#Test Dataset\n",
    "criminals_test.head(5)"
   ]
  },
  {
   "cell_type": "markdown",
   "metadata": {},
   "source": [
    "Below Feature Engineering is done after deep analysis on a dataset. You can go through by analyzing the training dataset. I only presented the code."
   ]
  },
  {
   "cell_type": "code",
   "execution_count": 31,
   "metadata": {
    "collapsed": true
   },
   "outputs": [],
   "source": [
    "#Droping couple of features that we don't need or may decreasing performance of our model.\n",
    "criminals_test = criminals_test.drop(['IIKI17_2','IIHHSIZ2','IIHH65_2','IIMEDICR','IICHMPUS','IIPRVHLT','IIOTHHLT','IIINSUR4','IIFAMSOC','IIFAMSSI','IIFSTAMP','IIFAMPMT','IIFAMSVC','IIWELMOS','IIPINC3','IIFAMIN3','IRMCDCHP'], axis = 1)\n",
    "criminals_test = criminals_test.drop(['IRWELMOS','IROTHHLT','HLCALLFG','HLCALL99','PRXRETRY','PRXYDATA','HLTINNOS','HLCNOTMO','HLCLAST','HLLOSRSN','HLNVCOST','HLNVOFFR','HLNVREF','HLNVNEED','HLNVSOR','ANALWT_C','VESTR'], axis = 1)"
   ]
  },
  {
   "cell_type": "code",
   "execution_count": 32,
   "metadata": {
    "collapsed": true
   },
   "outputs": [],
   "source": [
    "#Replacing the NA values of some Features \n",
    "criminals_test['NRCH17_2'] = criminals_test['NRCH17_2'].replace(-1,0)\n",
    "criminals_test['POVERTY3'] = criminals_test['POVERTY3'].replace(-1,1)"
   ]
  },
  {
   "cell_type": "code",
   "execution_count": 33,
   "metadata": {
    "collapsed": true
   },
   "outputs": [],
   "source": [
    "#Creating a series of Person ID column so that we can add it in submission file.\n",
    "perid = pd.DataFrame(criminals_test['PERID'])"
   ]
  },
  {
   "cell_type": "code",
   "execution_count": 34,
   "metadata": {},
   "outputs": [],
   "source": [
    "#Droping Person ID column (No use for Model or to obtain Predictions)\n",
    "criminals_test = criminals_test.drop('PERID',axis = 1)"
   ]
  },
  {
   "cell_type": "markdown",
   "metadata": {
    "collapsed": true
   },
   "source": [
    "# Let's Scale the Training Dataset to unit Variance by using StandardScaler"
   ]
  },
  {
   "cell_type": "code",
   "execution_count": 35,
   "metadata": {
    "collapsed": true
   },
   "outputs": [],
   "source": [
    "#Import the Library from scikit-learn\n",
    "from sklearn.preprocessing import StandardScaler"
   ]
  },
  {
   "cell_type": "code",
   "execution_count": 36,
   "metadata": {
    "collapsed": true
   },
   "outputs": [],
   "source": [
    "#Creation of Object\n",
    "scaler = StandardScaler()"
   ]
  },
  {
   "cell_type": "code",
   "execution_count": 37,
   "metadata": {},
   "outputs": [
    {
     "data": {
      "text/plain": [
       "StandardScaler(copy=True, with_mean=True, with_std=True)"
      ]
     },
     "execution_count": 37,
     "metadata": {},
     "output_type": "execute_result"
    }
   ],
   "source": [
    "#Let's Fit it by using fit method to compute mean and std for later scaling.\n",
    "scaler.fit(criminals_train.drop('Criminal', axis = 1))"
   ]
  },
  {
   "cell_type": "code",
   "execution_count": 38,
   "metadata": {
    "collapsed": true
   },
   "outputs": [],
   "source": [
    "#Transform by performing standardization \n",
    "scaled_features = scaler.transform(criminals_train.drop('Criminal', axis = 1))"
   ]
  },
  {
   "cell_type": "code",
   "execution_count": 39,
   "metadata": {},
   "outputs": [],
   "source": [
    "#Create a DataFrame of criminal_train(X) scaled_features\n",
    "X_train = pd.DataFrame(scaled_features,columns = criminals_train.columns[:-1])"
   ]
  },
  {
   "cell_type": "code",
   "execution_count": 40,
   "metadata": {
    "collapsed": true
   },
   "outputs": [],
   "source": [
    "# Create a Y train for the model\n",
    "y_train = criminals_train['Criminal']"
   ]
  },
  {
   "cell_type": "markdown",
   "metadata": {},
   "source": [
    "# Let's Scale the Test Dataset to unit Variance by using StandardScaler"
   ]
  },
  {
   "cell_type": "code",
   "execution_count": 41,
   "metadata": {
    "collapsed": true
   },
   "outputs": [],
   "source": [
    "#Creation of Object\n",
    "scaler = StandardScaler()"
   ]
  },
  {
   "cell_type": "code",
   "execution_count": 42,
   "metadata": {},
   "outputs": [
    {
     "data": {
      "text/plain": [
       "StandardScaler(copy=True, with_mean=True, with_std=True)"
      ]
     },
     "execution_count": 42,
     "metadata": {},
     "output_type": "execute_result"
    }
   ],
   "source": [
    "#Let's Fit it by using fit method to compute mean and std for later scaling.\n",
    "scaler.fit(criminals_test)"
   ]
  },
  {
   "cell_type": "code",
   "execution_count": 43,
   "metadata": {},
   "outputs": [],
   "source": [
    "#Transform by performing standardization \n",
    "scaled_features = scaler.transform(criminals_test)"
   ]
  },
  {
   "cell_type": "code",
   "execution_count": 44,
   "metadata": {
    "collapsed": true
   },
   "outputs": [],
   "source": [
    "#Create a DataFrame of criminal_test scaled_features\n",
    "X_test = pd.DataFrame(scaled_features,columns = criminals_test.columns)"
   ]
  },
  {
   "cell_type": "markdown",
   "metadata": {
    "collapsed": true
   },
   "source": [
    "# Let's train the model using X_train and Y_train dataframes to predict Criminals."
   ]
  },
  {
   "cell_type": "code",
   "execution_count": 45,
   "metadata": {
    "collapsed": true
   },
   "outputs": [],
   "source": [
    "#Import the Model : Random Forest Classifier\n",
    "from sklearn.ensemble import RandomForestClassifier"
   ]
  },
  {
   "cell_type": "code",
   "execution_count": 46,
   "metadata": {
    "collapsed": true
   },
   "outputs": [],
   "source": [
    "#Create an object of model\n",
    "rfc = RandomForestClassifier()"
   ]
  },
  {
   "cell_type": "code",
   "execution_count": 47,
   "metadata": {},
   "outputs": [
    {
     "data": {
      "text/plain": [
       "RandomForestClassifier(bootstrap=True, class_weight=None, criterion='gini',\n",
       "            max_depth=None, max_features='auto', max_leaf_nodes=None,\n",
       "            min_impurity_decrease=0.0, min_impurity_split=None,\n",
       "            min_samples_leaf=1, min_samples_split=2,\n",
       "            min_weight_fraction_leaf=0.0, n_estimators=10, n_jobs=1,\n",
       "            oob_score=False, random_state=None, verbose=0,\n",
       "            warm_start=False)"
      ]
     },
     "execution_count": 47,
     "metadata": {},
     "output_type": "execute_result"
    }
   ],
   "source": [
    "#Let's fit the model using X and Y features\n",
    "rfc.fit(X_train,y_train)"
   ]
  },
  {
   "cell_type": "code",
   "execution_count": 48,
   "metadata": {
    "collapsed": true
   },
   "outputs": [],
   "source": [
    "# Let's predict the Criminals by passing the X_test features to predict function of learned RFC model\n",
    "predictions = rfc.predict(X_test)"
   ]
  },
  {
   "cell_type": "code",
   "execution_count": 49,
   "metadata": {
    "collapsed": true
   },
   "outputs": [],
   "source": [
    "#Create a DataFrame of predictions so that we can merge it\n",
    "predictions = pd.DataFrame(predictions)"
   ]
  },
  {
   "cell_type": "code",
   "execution_count": 50,
   "metadata": {
    "collapsed": true
   },
   "outputs": [],
   "source": [
    "#Create a 'submission' DataFrame by concatenating 'PERID' and 'PREDICTIONS' dataframes\n",
    "submission = pd.concat([perid,predictions], axis = 1)\n",
    "submission.columns = ['PERID','Criminal']"
   ]
  },
  {
   "cell_type": "code",
   "execution_count": 51,
   "metadata": {},
   "outputs": [],
   "source": [
    "submission.to_csv('y_test_predictions.csv', index = False)"
   ]
  },
  {
   "cell_type": "markdown",
   "metadata": {
    "collapsed": true
   },
   "source": [
    "# Remember : The evaluation metric is Matthews correlation coefficient"
   ]
  },
  {
   "cell_type": "markdown",
   "metadata": {
    "collapsed": true
   },
   "source": [
    "# Thank you "
   ]
  },
  {
   "cell_type": "code",
   "execution_count": 193,
   "metadata": {
    "collapsed": true
   },
   "outputs": [],
   "source": []
  },
  {
   "cell_type": "code",
   "execution_count": 194,
   "metadata": {
    "collapsed": true
   },
   "outputs": [],
   "source": []
  },
  {
   "cell_type": "code",
   "execution_count": 195,
   "metadata": {
    "collapsed": true
   },
   "outputs": [],
   "source": []
  },
  {
   "cell_type": "code",
   "execution_count": 196,
   "metadata": {
    "collapsed": true
   },
   "outputs": [],
   "source": []
  },
  {
   "cell_type": "code",
   "execution_count": 197,
   "metadata": {
    "collapsed": true
   },
   "outputs": [],
   "source": []
  },
  {
   "cell_type": "code",
   "execution_count": 198,
   "metadata": {
    "collapsed": true
   },
   "outputs": [],
   "source": []
  },
  {
   "cell_type": "code",
   "execution_count": 199,
   "metadata": {
    "collapsed": true
   },
   "outputs": [],
   "source": []
  },
  {
   "cell_type": "code",
   "execution_count": null,
   "metadata": {
    "collapsed": true
   },
   "outputs": [],
   "source": []
  }
 ],
 "metadata": {
  "kernelspec": {
   "display_name": "Python 3",
   "language": "python",
   "name": "python3"
  },
  "language_info": {
   "codemirror_mode": {
    "name": "ipython",
    "version": 3
   },
   "file_extension": ".py",
   "mimetype": "text/x-python",
   "name": "python",
   "nbconvert_exporter": "python",
   "pygments_lexer": "ipython3",
   "version": "3.6.3"
  }
 },
 "nbformat": 4,
 "nbformat_minor": 2
}
